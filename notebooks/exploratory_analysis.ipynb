{
 "cells": [
  {
   "cell_type": "markdown",
   "id": "534a0b6c",
   "metadata": {},
   "source": [
    "# Exploratory Analysis\n",
    "\n",
    "This notebook contains quick exploratory steps for the OBIS Indian Ocean dataset."
   ]
  },
  {
   "cell_type": "code",
   "execution_count": null,
   "id": "592d6fe1",
   "metadata": {},
   "outputs": [],
   "source": [
    "import pandas as pd\n",
    "import matplotlib.pyplot as plt\n",
    "import seaborn as sns\n",
    "\n",
    "# Load the clean data\n",
    "df = pd.read_csv('../data/processed/cleaned_obis_data.csv')\n",
    "\n",
    "# Display the first 5 rows\n",
    "print(\"First 5 rows of the data:\")\n",
    "print(df.head())\n",
    "\n",
    "# Get a summary of the dataframe (columns, data types, non-null counts)\n",
    "print(\"\\nData summary:\")\n",
    "df.info()"
   ]
  },
  {
   "cell_type": "code",
   "execution_count": null,
   "id": "4b845c34",
   "metadata": {},
   "outputs": [],
   "source": []
  }
 ],
 "metadata": {
  "language_info": {
   "name": "python"
  }
 },
 "nbformat": 4,
 "nbformat_minor": 5
}
